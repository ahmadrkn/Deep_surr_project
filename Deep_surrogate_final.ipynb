{
 "cells": [
  {
   "cell_type": "code",
   "execution_count": 169,
   "metadata": {},
   "outputs": [],
   "source": [
    "import pandas as pd\n",
    "import numpy as np\n",
    "import scipy.stats as stats\n",
    "from scipy.optimize import minimize\n",
    "from tqdm import tqdm\n",
    "import pandas_datareader as pdr\n",
    "import datetime\n",
    "from numpy.linalg import inv\n",
    "from math import sqrt\n",
    "from sklearn.metrics import mean_absolute_error, mean_squared_error, r2_score\n",
    "import matplotlib.pyplot as plt\n",
    "import tensorflow as tf\n",
    "from sklearn.preprocessing import StandardScaler\n",
    "from sklearn.model_selection import train_test_split\n"
   ]
  },
  {
   "cell_type": "code",
   "execution_count": 170,
   "metadata": {},
   "outputs": [],
   "source": [
    "start = datetime.datetime(2004, 1, 1)\n",
    "end = datetime.datetime.now()\n",
    "df = pdr.get_data_fred('DFF', start, end)\n",
    "df = df[df.index.dayofweek < 5]\n",
    "df /= 100\n"
   ]
  },
  {
   "cell_type": "markdown",
   "metadata": {},
   "source": [
    "# Vasicek model parameters"
   ]
  },
  {
   "cell_type": "code",
   "execution_count": 171,
   "metadata": {},
   "outputs": [],
   "source": [
    "def vasicek_log_likelihood(params, rates, dt):\n",
    "    a, b, sigma = params\n",
    "    n = len(rates)\n",
    "    mu = b + (rates[:-1] - b) * np.exp(-a * dt)\n",
    "    sigma_v = np.sqrt((sigma**2 / (2 * a)) * (1 - np.exp(-2 * a * dt)))\n",
    "    log_likelihood = -0.5 * np.sum(np.log(2 * np.pi * sigma_v**2) + ((rates[1:] - mu)**2 / sigma_v**2))\n",
    "    return -log_likelihood"
   ]
  },
  {
   "cell_type": "code",
   "execution_count": 172,
   "metadata": {},
   "outputs": [
    {
     "name": "stdout",
     "output_type": "stream",
     "text": [
      "Estimated a: 0.07168795710745386\n",
      "Estimated b: 0.04470367202358553\n",
      "Estimated sigma: 0.01064269150756088\n"
     ]
    }
   ],
   "source": [
    "rates = df.dropna().values\n",
    "dt = 1 / 252  # Assuming daily data; adjust accordingly if using different frequency\n",
    "\n",
    "# Initial parameter guesses (a, b, sigma)\n",
    "initial_params = [0.1, 0.1, 0.1]\n",
    "\n",
    "# Estimate the parameters using MLE\n",
    "result = minimize(vasicek_log_likelihood, initial_params, bounds=[(1e-6, None), (None, None), (1e-6, None)], args=(rates, dt))\n",
    "a_mle, b_mle, sigma_mle = result.x\n",
    "\n",
    "# Display estimated parameters\n",
    "print(f\"Estimated a: {a_mle}\")\n",
    "print(f\"Estimated b: {b_mle}\")\n",
    "print(f\"Estimated sigma: {sigma_mle}\")"
   ]
  },
  {
   "cell_type": "code",
   "execution_count": 173,
   "metadata": {},
   "outputs": [
    {
     "name": "stdout",
     "output_type": "stream",
     "text": [
      "Parameter   Estimate       Std. Err.      T-stat\n",
      "a           0.071688        0.121638     0.58936\n",
      "b           0.044704        0.058515     0.76397\n",
      "sigma       0.010643        0.000103     103.11862\n"
     ]
    }
   ],
   "source": [
    "# Numerical approximation of the Hessian matrix and final estimation results display\n",
    "estimates = np.array([a_mle, b_mle, sigma_mle])\n",
    "step = 1e-5 * estimates\n",
    "n_params = len(estimates)\n",
    "\n",
    "# Initialize the Hessian matrix\n",
    "H = np.zeros((n_params, n_params))\n",
    "\n",
    "# Compute the Hessian matrix using finite differences\n",
    "for i in range(n_params):\n",
    "    for j in range(n_params):\n",
    "        delta_i = np.zeros(n_params)\n",
    "        delta_j = np.zeros(n_params)\n",
    "        delta_i[i] = step[i]\n",
    "        delta_j[j] = step[j]\n",
    "        \n",
    "        f_ij = vasicek_log_likelihood(estimates + delta_i + delta_j, rates, dt)\n",
    "        f_i_neg_j = vasicek_log_likelihood(estimates + delta_i - delta_j, rates, dt)\n",
    "        f_neg_i_j = vasicek_log_likelihood(estimates - delta_i + delta_j, rates, dt)\n",
    "        f_neg_i_neg_j = vasicek_log_likelihood(estimates - delta_i - delta_j, rates, dt)\n",
    "        \n",
    "        H[i, j] = (f_ij - f_i_neg_j - f_neg_i_j + f_neg_i_neg_j) / (4 * step[i] * step[j])\n",
    "\n",
    "# Invert the Hessian matrix to get the variance-covariance matrix\n",
    "vcv = inv(H)\n",
    "\n",
    "# Extract standard errors\n",
    "std_err = np.sqrt(np.diag(vcv))\n",
    "\n",
    "# Compute t-statistics\n",
    "t_stats = estimates / std_err\n",
    "\n",
    "# Display results\n",
    "print('Parameter   Estimate       Std. Err.      T-stat')\n",
    "param = ['a', 'b', 'sigma']\n",
    "for i in range(n_params):\n",
    "    print('{0:<11} {1:>0.6f}        {2:0.6f}    {3: 0.5f}'.format(param[i],\n",
    "           estimates[i], std_err[i], t_stats[i]))"
   ]
  },
  {
   "cell_type": "markdown",
   "metadata": {},
   "source": [
    "# Simulation of interest rate paths"
   ]
  },
  {
   "cell_type": "code",
   "execution_count": 153,
   "metadata": {},
   "outputs": [
    {
     "name": "stderr",
     "output_type": "stream",
     "text": [
      "  0%|          | 0/10000 [00:00<?, ?it/s]/var/folders/zq/cl9wyfm13sq150n30b6r3_6m0000gn/T/ipykernel_42465/223898460.py:15: FutureWarning: Calling float on a single element Series is deprecated and will raise a TypeError in the future. Use float(ser.iloc[0]) instead\n",
      "  rates[0] = r0\n",
      "100%|██████████| 10000/10000 [00:53<00:00, 188.10it/s]\n"
     ]
    }
   ],
   "source": [
    "a = a_mle\n",
    "b = b_mle\n",
    "sigma = sigma_mle\n",
    "r0 = df.iloc[-1]\n",
    "\n",
    "T_values = np.arange(1, 13) / 12\n",
    "\n",
    "# Simulation parameters\n",
    "num_paths = 10000\n",
    "num_steps = 100\n",
    "dt = 1/252\n",
    "\n",
    "def simulate_vasicek_path(a, b, sigma, r0, num_steps, dt):\n",
    "    rates = np.zeros(num_steps)\n",
    "    rates[0] = r0\n",
    "    for t in range(1, num_steps):\n",
    "        dr = a * (b - rates[t-1]) * dt + sigma * np.sqrt(dt) * np.random.normal()\n",
    "        rates[t] = rates[t-1] + dr\n",
    "    return rates\n",
    "\n",
    "def zc_bond_price(r, t, T, a, b, sigma):\n",
    "    B = (1 - np.exp(-a * (T - t))) / a\n",
    "    A = np.exp((b - (sigma**2) / (2 * a**2)) * (B - (T - t)) - (sigma**2) * B**2 / (4 * a))\n",
    "    return A * np.exp(-B * r)\n",
    "\n",
    "data = []\n",
    "for _ in tqdm(range(num_paths)):\n",
    "    rates = simulate_vasicek_path(a, b, sigma, r0, num_steps, dt)\n",
    "    for t in range(num_steps):\n",
    "        for T in T_values:\n",
    "            price = zc_bond_price(rates[t], t*dt, T, a, b, sigma)\n",
    "            data.append([rates[t], t*dt, T, price])\n",
    "\n",
    "data = np.array(data)"
   ]
  },
  {
   "cell_type": "markdown",
   "metadata": {},
   "source": [
    "# Deep surrogate"
   ]
  },
  {
   "cell_type": "code",
   "execution_count": 154,
   "metadata": {},
   "outputs": [],
   "source": [
    "# Split the data\n",
    "X = data[:, :3]  # Features: rate, time, maturity\n",
    "y = data[:, 3]   # Target: bond price\n",
    "\n",
    "X_train, X_temp, y_train, y_temp = train_test_split(X, y, test_size=0.3, random_state=42)\n",
    "X_val, X_test, y_val, y_test = train_test_split(X_temp, y_temp, test_size=0.5, random_state=42) \n",
    "\n",
    "# Normalize the data\n",
    "scaler = StandardScaler()\n",
    "X_train = scaler.fit_transform(X_train)\n",
    "X_val = scaler.transform(X_val)\n",
    "X_test = scaler.transform(X_test)"
   ]
  },
  {
   "cell_type": "code",
   "execution_count": 155,
   "metadata": {},
   "outputs": [
    {
     "name": "stdout",
     "output_type": "stream",
     "text": [
      "Epoch 1/2\n"
     ]
    },
    {
     "name": "stderr",
     "output_type": "stream",
     "text": [
      "/Users/ahmadroukain/PycharmProjects/pythonProject4/venv/lib/python3.11/site-packages/keras/src/layers/core/dense.py:87: UserWarning: Do not pass an `input_shape`/`input_dim` argument to a layer. When using Sequential models, prefer using an `Input(shape)` object as the first layer in the model instead.\n",
      "  super().__init__(activity_regularizer=activity_regularizer, **kwargs)\n"
     ]
    },
    {
     "name": "stdout",
     "output_type": "stream",
     "text": [
      "\u001b[1m262500/262500\u001b[0m \u001b[32m━━━━━━━━━━━━━━━━━━━━\u001b[0m\u001b[37m\u001b[0m \u001b[1m155s\u001b[0m 587us/step - loss: 3.8963e-04 - val_loss: 2.5738e-09\n",
      "Epoch 2/2\n",
      "\u001b[1m262500/262500\u001b[0m \u001b[32m━━━━━━━━━━━━━━━━━━━━\u001b[0m\u001b[37m\u001b[0m \u001b[1m151s\u001b[0m 574us/step - loss: 8.1715e-08 - val_loss: 2.0892e-08\n"
     ]
    }
   ],
   "source": [
    "# Define the neural network\n",
    "model = tf.keras.Sequential([\n",
    "    tf.keras.layers.Dense(128, activation='relu', input_shape=(3,)),\n",
    "    tf.keras.layers.Dense(64, activation='relu'),\n",
    "    tf.keras.layers.Dense(32, activation='relu'),\n",
    "    tf.keras.layers.Dense(1)\n",
    "])\n",
    "# Compile the model\n",
    "model.compile(optimizer='adam', loss='mean_squared_error')\n",
    "\n",
    "# Train the model\n",
    "history = model.fit(X_train, y_train, epochs=2, batch_size=32, validation_data=(X_val, y_val), callbacks=[tf.keras.callbacks.EarlyStopping(patience=5)])\n"
   ]
  },
  {
   "cell_type": "code",
   "execution_count": 156,
   "metadata": {},
   "outputs": [
    {
     "name": "stdout",
     "output_type": "stream",
     "text": [
      "\u001b[1m56250/56250\u001b[0m \u001b[32m━━━━━━━━━━━━━━━━━━━━\u001b[0m\u001b[37m\u001b[0m \u001b[1m18s\u001b[0m 320us/step - loss: 2.0900e-08\n",
      "Test Loss: 2.090818362887603e-08\n"
     ]
    }
   ],
   "source": [
    "# Evaluate the model\n",
    "test_loss = model.evaluate(X_test, y_test)\n",
    "print(f'Test Loss: {test_loss}')\n"
   ]
  },
  {
   "cell_type": "markdown",
   "metadata": {},
   "source": [
    "That is the test, it's very good, our model worked well"
   ]
  },
  {
   "cell_type": "code",
   "execution_count": 157,
   "metadata": {},
   "outputs": [
    {
     "name": "stdout",
     "output_type": "stream",
     "text": [
      "\u001b[1m56250/56250\u001b[0m \u001b[32m━━━━━━━━━━━━━━━━━━━━\u001b[0m\u001b[37m\u001b[0m \u001b[1m24s\u001b[0m 429us/step\n",
      "Mean Absolute Error (MAE): 0.0001312809589413363\n",
      "Mean Squared Error (MSE): 2.090810846159205e-08\n",
      "R-squared (R²): 0.9999204215137494\n"
     ]
    }
   ],
   "source": [
    "# Predict on the test set\n",
    "y_pred = model.predict(X_test)\n",
    "\n",
    "# Calculate metrics\n",
    "mae = mean_absolute_error(y_test, y_pred)\n",
    "mse = mean_squared_error(y_test, y_pred)\n",
    "r2 = r2_score(y_test, y_pred)\n",
    "\n",
    "print(f'Mean Absolute Error (MAE): {mae}')\n",
    "print(f'Mean Squared Error (MSE): {mse}')\n",
    "print(f'R-squared (R²): {r2}')"
   ]
  },
  {
   "cell_type": "code",
   "execution_count": 184,
   "metadata": {},
   "outputs": [
    {
     "data": {
      "image/png": "[encoded data removed]",
      "text/plain": [
       "<Figure size 1000x600 with 1 Axes>"
      ]
     },
     "metadata": {},
     "output_type": "display_data"
    }
   ],
   "source": [
    "plt.figure(figsize=(10, 6))\n",
    "plt.scatter(y_test, y_pred, alpha=0.3)\n",
    "plt.plot([min(y_test), max(y_test)], [min(y_test), max(y_test)], 'r--')\n",
    "plt.xlabel('Actual Prices')\n",
    "plt.ylabel('Predicted Prices')\n",
    "plt.title('Actual vs. Predicted Zero-Coupon Bond Prices')\n",
    "plt.savefig('deep_surr_prediction.png')\n",
    "plt.show()"
   ]
  },
  {
   "cell_type": "code",
   "execution_count": null,
   "metadata": {},
   "outputs": [],
   "source": []
  },
  {
   "cell_type": "markdown",
   "metadata": {},
   "source": [
    "# Trying the model"
   ]
  },
  {
   "cell_type": "code",
   "execution_count": 174,
   "metadata": {},
   "outputs": [
    {
     "name": "stdout",
     "output_type": "stream",
     "text": [
      "\u001b[1m1/1\u001b[0m \u001b[32m━━━━━━━━━━━━━━━━━━━━\u001b[0m\u001b[37m\u001b[0m \u001b[1m0s\u001b[0m 17ms/step\n",
      "Predicted ZC Bond Price: 0.9869484305381775\n"
     ]
    },
    {
     "name": "stderr",
     "output_type": "stream",
     "text": [
      "/var/folders/zq/cl9wyfm13sq150n30b6r3_6m0000gn/T/ipykernel_42465/615073716.py:1: FutureWarning: Series.__getitem__ treating keys as positions is deprecated. In a future version, integer keys will always be treated as labels (consistent with DataFrame behavior). To access a value by position, use `ser.iloc[pos]`\n",
      "  new_input = scaler.transform([[r0[0], 0, 3/12]])\n"
     ]
    }
   ],
   "source": [
    "new_input = scaler.transform([[r0[0], 0, 3/12]]) \n",
    "predicted_price = model.predict(new_input)\n",
    "print(f'Predicted ZC Bond Price: {predicted_price[0][0]}')"
   ]
  },
  {
   "cell_type": "code",
   "execution_count": 175,
   "metadata": {},
   "outputs": [
    {
     "name": "stdout",
     "output_type": "stream",
     "text": [
      "\u001b[1m1/1\u001b[0m \u001b[32m━━━━━━━━━━━━━━━━━━━━\u001b[0m\u001b[37m\u001b[0m \u001b[1m0s\u001b[0m 15ms/step\n",
      "Predicted ZC Bond Price: 0.9739894866943359\n"
     ]
    },
    {
     "name": "stderr",
     "output_type": "stream",
     "text": [
      "/var/folders/zq/cl9wyfm13sq150n30b6r3_6m0000gn/T/ipykernel_42465/3061417294.py:1: FutureWarning: Series.__getitem__ treating keys as positions is deprecated. In a future version, integer keys will always be treated as labels (consistent with DataFrame behavior). To access a value by position, use `ser.iloc[pos]`\n",
      "  new_input = scaler.transform([[r0[0], 0, 6/12]])\n"
     ]
    }
   ],
   "source": [
    "new_input = scaler.transform([[r0[0], 0, 6/12]]) \n",
    "predicted_price = model.predict(new_input)\n",
    "print(f'Predicted ZC Bond Price: {predicted_price[0][0]}')"
   ]
  },
  {
   "cell_type": "code",
   "execution_count": 176,
   "metadata": {},
   "outputs": [
    {
     "name": "stdout",
     "output_type": "stream",
     "text": [
      "\u001b[1m1/1\u001b[0m \u001b[32m━━━━━━━━━━━━━━━━━━━━\u001b[0m\u001b[37m\u001b[0m \u001b[1m0s\u001b[0m 19ms/step\n",
      "Predicted ZC Bond Price: 0.9486499428749084\n"
     ]
    },
    {
     "name": "stderr",
     "output_type": "stream",
     "text": [
      "/var/folders/zq/cl9wyfm13sq150n30b6r3_6m0000gn/T/ipykernel_42465/645128804.py:1: FutureWarning: Series.__getitem__ treating keys as positions is deprecated. In a future version, integer keys will always be treated as labels (consistent with DataFrame behavior). To access a value by position, use `ser.iloc[pos]`\n",
      "  new_input = scaler.transform([[r0[0], 0, 1]])\n"
     ]
    }
   ],
   "source": [
    "new_input = scaler.transform([[r0[0], 0, 1]]) \n",
    "predicted_price = model.predict(new_input)\n",
    "print(f'Predicted ZC Bond Price: {predicted_price[0][0]}')"
   ]
  },
  {
   "cell_type": "code",
   "execution_count": 182,
   "metadata": {},
   "outputs": [],
   "source": [
    "'https://www.worldgovernmentbonds.com/country/united-states/#:~:text=The%20United%20States%2010Y%20Government,Term%20vs%20Short%2DTerm%20Maturities.&text=Central%20Bank%20Rate%20is%205.50,last%20modification%20in%20July%202023).'\n",
    "\n",
    "US3M_y = 5.411/100\n",
    "US6M_y = 5.389/100\n",
    "US1Y_y = 5.211/100\n",
    "US3M = 1/(1+US3M_y)**(3/12)\n",
    "US6M = 1/(1+US6M_y)**(6/12)\n",
    "US1Y = 1/(1+US1Y_y)\n",
    "US3M_p = 0.9869484305381775\n",
    "US6M_p = 0.9739894866943359\n",
    "US1Y_p = 0.9486499428749084\n",
    "\n",
    "table_comparison = {\n",
    "    \"Actual price\": [US3M, US6M, US1Y],\n",
    "    \"Predicted\": [US3M_p, US6M_p, US1Y_p]\n",
    "}\n",
    "\n",
    "df = pd.DataFrame(data, index=[\"US3M\", \"US6M\", \"US1Y\"])\n",
    "df.to_latex('comparaison_prix.tex')\n"
   ]
  },
  {
   "cell_type": "code",
   "execution_count": 183,
   "metadata": {},
   "outputs": [
    {
     "data": {
      "text/plain": [
       "{'Actual price': [0.9869121977194025, 0.9740973417158957, 0.9504709583598672],\n",
       " 'Predicted': [0.9869484305381775, 0.9739894866943359, 0.9486499428749084]}"
      ]
     },
     "execution_count": 183,
     "metadata": {},
     "output_type": "execute_result"
    }
   ],
   "source": [
    "data"
   ]
  },
  {
   "cell_type": "code",
   "execution_count": null,
   "metadata": {},
   "outputs": [],
   "source": []
  }
 ],
 "metadata": {
  "kernelspec": {
   "display_name": "venv",
   "language": "python",
   "name": "python3"
  },
  "language_info": {
   "codemirror_mode": {
    "name": "ipython",
    "version": 3
   },
   "file_extension": ".py",
   "mimetype": "text/x-python",
   "name": "python",
   "nbconvert_exporter": "python",
   "pygments_lexer": "ipython3",
   "version": "3.11.4"
  }
 },
 "nbformat": 4,
 "nbformat_minor": 2
}
